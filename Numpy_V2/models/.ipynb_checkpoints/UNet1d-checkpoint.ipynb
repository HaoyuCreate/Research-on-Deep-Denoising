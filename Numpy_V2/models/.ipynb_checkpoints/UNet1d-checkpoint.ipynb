{
 "cells": [
  {
   "cell_type": "code",
   "execution_count": 30,
   "metadata": {},
   "outputs": [],
   "source": [
    "import numpy as np\n",
    "\n",
    "import torch\n",
    "import torch.nn as nn\n",
    "import torch.nn.parallel\n",
    "from torch.autograd import Variable\n",
    "import torch.nn.functional as F\n",
    "from pdb import set_trace"
   ]
  },
  {
   "cell_type": "code",
   "execution_count": 31,
   "metadata": {},
   "outputs": [],
   "source": [
    "class DoubleConv1D(nn.Module):\n",
    "    '''(convolution => [BN] => ReLU) * 2'''\n",
    "    \n",
    "    def __init__(self, in_channels,out_channels,mid_channels=None):\n",
    "        super().__init__()\n",
    "        if not mid_channels:\n",
    "            mid_channels = out_channels\n",
    "        self.double_conv = nn.Sequential(\n",
    "            nn.Conv1d(in_channels,mid_channels,kernel_size=3,padding=1),\n",
    "            nn.BatchNorm1d(mid_channels),\n",
    "            nn.ReLU(inplace=True),\n",
    "            nn.Conv1d(mid_channels,out_channels,kernel_size=3,padding=1),\n",
    "            nn.BatchNorm1d(out_channels),\n",
    "            nn.ReLU(inplace=True)\n",
    "        )\n",
    "    \n",
    "    def forward(self,x):\n",
    "        return self.double_conv(x)"
   ]
  },
  {
   "cell_type": "code",
   "execution_count": 32,
   "metadata": {},
   "outputs": [],
   "source": [
    "class Down1D(nn.Module):\n",
    "    '''Downscaling with maxpool then double conv'''\n",
    "    def __init__(self,in_channels,out_channels):\n",
    "        super().__init__()\n",
    "        self.maxpool_conv = nn.Sequential(\n",
    "            nn.MaxPool1d(2),\n",
    "            DoubleConv(in_channels,out_channels)\n",
    "        )\n",
    "    def forward(self,x):\n",
    "        return self.maxpool_conv(x)"
   ]
  },
  {
   "cell_type": "code",
   "execution_count": 45,
   "metadata": {},
   "outputs": [],
   "source": [
    "class Up1D(nn.Module):\n",
    "    '''Upscaling then double conv'''\n",
    "    def __init__(self,in_channels,out_channels,bilinear=True):\n",
    "        super().__init__()\n",
    "        \n",
    "        if bilinear:\n",
    "            self.up = nn.Upsample(scale_factor=2,mode='bilinear',align_corners=True)\n",
    "            self.conv=DoubleConv(in_channels,out_channels,in_channels//2)\n",
    "        else:\n",
    "            self.up=nn.ConvTranspose1d(in_channels,in_channels//2,kernels_size=2,stride=2)\n",
    "            self.conv = DoubleConv(in_channels,out_channels)\n",
    "    \n",
    "    def forward(self,x1,x2):\n",
    "        diff = x2.size()[2] - x1.size()[2]\n",
    "        \n",
    "        x1 = F.pad(x1,[diff //2, diff - diff//2])\n",
    "        \n",
    "        x = torch.cat([x2,x1],dim=1)\n",
    "        \n",
    "        return self.conv(x)"
   ]
  },
  {
   "cell_type": "code",
   "execution_count": 48,
   "metadata": {},
   "outputs": [
    {
     "ename": "SyntaxError",
     "evalue": "invalid character in identifier (<ipython-input-48-d718d4a7afcf>, line 2)",
     "output_type": "error",
     "traceback": [
      "\u001b[0;36m  File \u001b[0;32m\"<ipython-input-48-d718d4a7afcf>\"\u001b[0;36m, line \u001b[0;32m2\u001b[0m\n\u001b[0;31m    def __init__(self,in_channels，out_channels):\u001b[0m\n\u001b[0m                                             ^\u001b[0m\n\u001b[0;31mSyntaxError\u001b[0m\u001b[0;31m:\u001b[0m invalid character in identifier\n"
     ]
    }
   ],
   "source": [
    "class OutConv1D(nn.Module):\n",
    "    def __init__(self,in_channels,out_channels):\n",
    "        super(OutConv,self).__init__()\n",
    "        self.conv = nn.Conv1d(in_channels,out_channels,kernel_size=1)\n",
    "        \n",
    "    def forward(self,x):\n",
    "        return self.conv(x)"
   ]
  },
  {
   "cell_type": "code",
   "execution_count": null,
   "metadata": {},
   "outputs": [],
   "source": []
  }
 ],
 "metadata": {
  "kernelspec": {
   "display_name": "Python 3",
   "language": "python",
   "name": "python3"
  },
  "language_info": {
   "codemirror_mode": {
    "name": "ipython",
    "version": 3
   },
   "file_extension": ".py",
   "mimetype": "text/x-python",
   "name": "python",
   "nbconvert_exporter": "python",
   "pygments_lexer": "ipython3",
   "version": "3.6.10"
  },
  "toc": {
   "base_numbering": 1,
   "nav_menu": {},
   "number_sections": true,
   "sideBar": true,
   "skip_h1_title": false,
   "title_cell": "Table of Contents",
   "title_sidebar": "Contents",
   "toc_cell": false,
   "toc_position": {},
   "toc_section_display": true,
   "toc_window_display": false
  }
 },
 "nbformat": 4,
 "nbformat_minor": 4
}
